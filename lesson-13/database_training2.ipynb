{
 "cells": [
  {
   "cell_type": "code",
   "execution_count": 1,
   "metadata": {},
   "outputs": [],
   "source": [
    "import sqlite3"
   ]
  },
  {
   "cell_type": "code",
   "execution_count": 9,
   "metadata": {},
   "outputs": [
    {
     "data": {
      "text/plain": [
       "[('Elmurod', 'Aka', 51),\n",
       " ('Erik', 'Haydar', 41),\n",
       " ('Sardor', 'Ahmadaliev', 31),\n",
       " ('Gani', 'Aaliev', 22),\n",
       " ('Ali', 'Valiev', 21)]"
      ]
     },
     "execution_count": 9,
     "metadata": {},
     "output_type": "execute_result"
    }
   ],
   "source": [
    "with sqlite3.connect(\"studentTest.db\") as con:\n",
    "    cursor = con.cursor()\n",
    "    query = \"Select * from Students order by age desc\"\n",
    "    data = cursor.ex(query)\n",
    "\n",
    "data.fetchall()"
   ]
  },
  {
   "cell_type": "code",
   "execution_count": 11,
   "metadata": {},
   "outputs": [],
   "source": [
    "student_values = (\n",
    "    ('Ali', 'Valiev', 21), \n",
    "    ('Gani', 'Aaliev', 22), \n",
    "    ('Sardor', 'Ahmadaliev', 31),\n",
    "    ('Ali', 'Valiev', 21), \n",
    "    ('Gani', 'Aaliev', 22), \n",
    "    ('Sardor', 'Ahmadaliev', 31),\n",
    "    ('Ali', 'Valiev', 21), \n",
    "    ('Gani', 'Aaliev', 22), \n",
    "    ('Sardor', 'Ahmadaliev', 31),\n",
    "    ('Ali', 'Valiev', 21), \n",
    "    ('Gani', 'Aaliev', 22), \n",
    "    ('Sardor', 'Ahmadaliev', 31),\n",
    "    ('Ali', 'Valiev', 21), \n",
    "    ('Gani', 'Aaliev', 22), \n",
    "    ('Sardor', 'Ahmadaliev', 31),\n",
    ")"
   ]
  },
  {
   "cell_type": "code",
   "execution_count": 13,
   "metadata": {},
   "outputs": [],
   "source": [
    "with sqlite3.connect(\"student.db\") as con:\n",
    "    cursor = con.cursor()\n",
    "    placeholders = \", \".join(['?'] * 3)\n",
    "    data = cursor.executemany(f\"Insert into Students Values({placeholders})\", student_values)"
   ]
  },
  {
   "cell_type": "code",
   "execution_count": 14,
   "metadata": {},
   "outputs": [
    {
     "data": {
      "text/plain": [
       "'?, ?, ?'"
      ]
     },
     "execution_count": 14,
     "metadata": {},
     "output_type": "execute_result"
    }
   ],
   "source": [
    "placeholders = \", \".join(['?'] * 3)\n",
    "placeholders"
   ]
  },
  {
   "cell_type": "code",
   "execution_count": 35,
   "metadata": {},
   "outputs": [],
   "source": [
    "fname = input(\"Ism? \")\n",
    "lname = input(\"Familiya? \")\n",
    "age = input(\"Yosh? \")\n",
    "\n",
    "\n",
    "values = (\n",
    "    (fname, lname, age),\n",
    "    (fname, lname, age),\n",
    "    (fname, lname, age)\n",
    ")\n",
    "\n",
    "# query = (\n",
    "#     f\"Insert into Students Values('{fname}', '{lname}', '{age}')\"\n",
    "# )\n",
    "\n",
    "with sqlite3.connect(\"studentNN.db\") as con:\n",
    "    cursor = con.cursor()\n",
    "    # cursor.execute(\"Create table Students (fname Text, lname text, age int)\")\n",
    "    cursor.executemany(\"Insert into Students Values(?, ?, ?)\", values)"
   ]
  }
 ],
 "metadata": {
  "kernelspec": {
   "display_name": "Python 3",
   "language": "python",
   "name": "python3"
  },
  "language_info": {
   "codemirror_mode": {
    "name": "ipython",
    "version": 3
   },
   "file_extension": ".py",
   "mimetype": "text/x-python",
   "name": "python",
   "nbconvert_exporter": "python",
   "pygments_lexer": "ipython3",
   "version": "3.12.6"
  }
 },
 "nbformat": 4,
 "nbformat_minor": 2
}
