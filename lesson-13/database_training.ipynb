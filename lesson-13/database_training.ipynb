{
 "cells": [
  {
   "cell_type": "code",
   "execution_count": 1,
   "metadata": {},
   "outputs": [],
   "source": [
    "import sqlite3"
   ]
  },
  {
   "cell_type": "code",
   "execution_count": 2,
   "metadata": {},
   "outputs": [],
   "source": [
    "connection = sqlite3.connect(\"test.db\")"
   ]
  },
  {
   "cell_type": "code",
   "execution_count": 3,
   "metadata": {},
   "outputs": [
    {
     "data": {
      "text/plain": [
       "sqlite3.Connection"
      ]
     },
     "execution_count": 3,
     "metadata": {},
     "output_type": "execute_result"
    }
   ],
   "source": [
    "type(connection)"
   ]
  },
  {
   "cell_type": "code",
   "execution_count": 8,
   "metadata": {},
   "outputs": [
    {
     "data": {
      "text/plain": [
       "('2025-01-13 20:16:34',)"
      ]
     },
     "execution_count": 8,
     "metadata": {},
     "output_type": "execute_result"
    }
   ],
   "source": [
    "con = sqlite3.connect(\":memory:\")\n",
    "\n",
    "query = \"Select datetime('now', 'localtime')\"\n",
    "\n",
    "cursor = con.cursor()\n",
    "time = cursor.execute(query)\n",
    "\n",
    "time.fe()\n",
    "\n",
    "con.close()"
   ]
  },
  {
   "cell_type": "markdown",
   "metadata": {},
   "source": [
    "# using \"with\" keyword"
   ]
  },
  {
   "cell_type": "code",
   "execution_count": 11,
   "metadata": {},
   "outputs": [
    {
     "data": {
      "text/plain": [
       "('2025-01-13 20:27:24',)"
      ]
     },
     "execution_count": 11,
     "metadata": {},
     "output_type": "execute_result"
    }
   ],
   "source": [
    "with sqlite3.connect(\"test.db\") as connection:\n",
    "    cursor = connection.cursor()\n",
    "    query = \"Select datetime('now', 'localtime')\"\n",
    "    data = cursor.execute(query)\n",
    "    \n",
    "data.fetchone()"
   ]
  },
  {
   "cell_type": "code",
   "execution_count": 15,
   "metadata": {},
   "outputs": [],
   "source": [
    "with sqlite3.connect(\"students.db\") as connection:\n",
    "    cursor = connection.cursor()\n",
    "    query = \"Create table Students(fname text, lname text, age int);\"\n",
    "    data = cursor.execute(query)"
   ]
  },
  {
   "cell_type": "code",
   "execution_count": 19,
   "metadata": {},
   "outputs": [],
   "source": [
    "with sqlite3.connect(\"students.db\") as connection:\n",
    "    cursor = connection.cursor()\n",
    "    query = \"Insert into Students Values('Ali', 'Valiev', 21);\"\n",
    "    data = cursor.execute(query)"
   ]
  },
  {
   "cell_type": "code",
   "execution_count": 23,
   "metadata": {},
   "outputs": [],
   "source": [
    "create = \"\"\"\n",
    "    Create table Students(fname text, lname text, age int, fname text, lname text, age int fname text, lname text, age int fname text, lname text, age int);\n",
    "\"\"\"\n",
    "\n",
    "insert = \"\"\"\n",
    "    Insert into Students Values('Ali', 'Valiev', 21), ('Ali', 'Valiev', 21), ('Ali', 'Valiev', 21), ('Ali', 'Valiev', 21);\n",
    "\"\"\"\n",
    "\n",
    "delete = \"\"\"\n",
    "    Drop table Students\n",
    "\"\"\""
   ]
  },
  {
   "cell_type": "code",
   "execution_count": 25,
   "metadata": {},
   "outputs": [],
   "source": [
    "with sqlite3.connect(\"studentTest.db\") as con:\n",
    "    cursor = con.cursor()\n",
    "    cursor.execute(create)\n",
    "    cursor.execute(insert)\n",
    "    cursor.execute(delete)"
   ]
  },
  {
   "cell_type": "code",
   "execution_count": 34,
   "metadata": {},
   "outputs": [],
   "source": [
    "sql = \"\"\"\n",
    "    Drop table if exists Students;\n",
    "\n",
    "    Create table Students(fname text, lname text, age int);\n",
    "\n",
    "    Insert into Students Values\n",
    "    ('Ali', 'Valiev', 21), \n",
    "    ('Gani', 'Aaliev', 22), \n",
    "    ('Sardor', 'Ahmadaliev', 31),\n",
    "    ('Erik', 'Haydar', 41),\n",
    "    ('Elmurod', 'Aka', 51);\n",
    "\"\"\""
   ]
  },
  {
   "cell_type": "code",
   "execution_count": 35,
   "metadata": {},
   "outputs": [],
   "source": [
    "with sqlite3.connect(\"studentTest.db\") as c:\n",
    "    cursor = c.cursor()\n",
    "    cursor.executescript(sql)"
   ]
  },
  {
   "cell_type": "code",
   "execution_count": 41,
   "metadata": {},
   "outputs": [
    {
     "data": {
      "text/plain": [
       "('Ali', 'Valiev', 21)"
      ]
     },
     "execution_count": 41,
     "metadata": {},
     "output_type": "execute_result"
    }
   ],
   "source": [
    "with sqlite3.connect(\"studentTest.db\") as con:\n",
    "    cursor = con.cursor()\n",
    "    query = \"Select * from Students\"\n",
    "    data = cursor.execute(query)\n",
    "\n",
    "data.fetchone()"
   ]
  },
  {
   "cell_type": "code",
   "execution_count": 52,
   "metadata": {},
   "outputs": [],
   "source": [
    "sql = \"\"\"\n",
    "    drop table if exists Stu;\n",
    "\n",
    "    Create table Stu(fname text, lname text, age int);\n",
    "\n",
    "    Insert into Stu Values\n",
    "    ('Ali', 'Valiev', 21), \n",
    "    ('Gani', 'Aaliev', 22),\n",
    "    ('Sardor', 'Ahmadaliev', 31),\n",
    "    ('Erik', 'Haydar', 41),\n",
    "    ('Elmurod', 'Aka', 51);\n",
    "\n",
    "    Delete from Stu where age = 31;\n",
    "\"\"\""
   ]
  },
  {
   "cell_type": "code",
   "execution_count": 59,
   "metadata": {},
   "outputs": [],
   "source": [
    "with sqlite3.connect(\"stuTest.db\") as c:\n",
    "    cursor = c.cursor()\n",
    "    cursor.executescript(sql)\n",
    "    cursor.execute(\"ALTER TABLE Stu ADD column email TEXT\")\n",
    "    cursor.execute(\"UPDATE Stu SET email='nimadir@nima.com21' WHERE age = 21\")\n",
    "    cursor.execute(\"UPDATE Stu SET email='nimadir@nima.com22' WHERE age = 22\")\n",
    "    cursor.execute(\"UPDATE Stu SET email='nimadir@nima.com41' WHERE age = 41\")\n",
    "    cursor.execute(\"UPDATE Stu SET email='nimadir@nima.com51' WHERE age = 51\")"
   ]
  },
  {
   "cell_type": "code",
   "execution_count": 63,
   "metadata": {},
   "outputs": [
    {
     "data": {
      "text/plain": [
       "[('Erik', 'Haydar'), ('Elmurod', 'Aka')]"
      ]
     },
     "execution_count": 63,
     "metadata": {},
     "output_type": "execute_result"
    }
   ],
   "source": [
    "with sqlite3.connect(\"stuTest.db\") as c:\n",
    "    cursor = c.cursor()\n",
    "    # cursor.executescript(sql)\n",
    "    data = cursor.execute(\"Select fname, lname from Stu where age > 40\")\n",
    "\n",
    "data.fetchall()"
   ]
  }
 ],
 "metadata": {
  "kernelspec": {
   "display_name": "Python 3",
   "language": "python",
   "name": "python3"
  },
  "language_info": {
   "codemirror_mode": {
    "name": "ipython",
    "version": 3
   },
   "file_extension": ".py",
   "mimetype": "text/x-python",
   "name": "python",
   "nbconvert_exporter": "python",
   "pygments_lexer": "ipython3",
   "version": "3.12.6"
  }
 },
 "nbformat": 4,
 "nbformat_minor": 2
}
